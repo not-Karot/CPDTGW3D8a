{
 "cells": [
  {
   "cell_type": "markdown",
   "source": [
    "Gruppo 8A\n",
    "Ennio Malvati - 484998\n",
    "Gianluca Di Lorenzo - 583630\n",
    "Raffaele Scarano - 576304"
   ],
   "metadata": {
    "collapsed": false,
    "pycharm": {
     "name": "#%% md\n"
    }
   }
  },
  {
   "cell_type": "code",
   "execution_count": null,
   "outputs": [],
   "source": [],
   "metadata": {
    "collapsed": false,
    "pycharm": {
     "name": "#%%\n"
    }
   }
  },
  {
   "cell_type": "markdown",
   "metadata": {
    "id": "loufg6w4RMFl",
    "pycharm": {
     "name": "#%% md\n"
    }
   },
   "source": [
    "# **FASE DI TEST**\n",
    "\n",
    " Come prima fase testiamo le prestazioni della funzione *merge_vertice* per vedere se le modifiche che saranno apportate avranno un miglioramento effettivo"
   ]
  },
  {
   "cell_type": "code",
   "execution_count": 2,
   "metadata": {
    "pycharm": {
     "name": "#%%\n"
    }
   },
   "outputs": [
    {
     "name": "stderr",
     "output_type": "stream",
     "text": [
      "\u001B[32m\u001B[1m  Activating\u001B[22m\u001B[39m project at `~/.julia/environments/v1.7`\n"
     ]
    }
   ],
   "source": [
    "using Pkg\n",
    "Pkg.activate()\n",
    "Pkg.instantiate()"
   ]
  },
  {
   "cell_type": "code",
   "execution_count": 4,
   "metadata": {
    "id": "Y1--N4yfBynm",
    "pycharm": {
     "name": "#%%\n"
    }
   },
   "outputs": [
    {
     "data": {
      "text/plain": [
       "LinearAlgebraicRepresentation"
      ]
     },
     "execution_count": 4,
     "metadata": {},
     "output_type": "execute_result"
    }
   ],
   "source": [
    "#Importiamo le librerie che utilizzaremo\n",
    "using Profile\n",
    "using ProfileView\n",
    "using BenchmarkTools\n",
    "using SparseArrays\n",
    "using LinearAlgebra\n",
    "using LinearAlgebraicRepresentation\n",
    "using NearestNeighbors\n",
    "Lar = LinearAlgebraicRepresentation"
   ]
  },
  {
   "cell_type": "markdown",
   "metadata": {
    "id": "dbiCb6u-SgZZ",
    "pycharm": {
     "name": "#%% md\n"
    }
   },
   "source": [
    "Test delle prestazioni della funzione senza modifiche"
   ]
  },
  {
   "cell_type": "code",
   "execution_count": 5,
   "metadata": {
    "id": "QWjx_efsTPAZ",
    "pycharm": {
     "name": "#%%\n"
    }
   },
   "outputs": [
    {
     "data": {
      "text/plain": [
       "merge_vertices (generic function with 2 methods)"
      ]
     },
     "execution_count": 5,
     "metadata": {},
     "output_type": "execute_result"
    }
   ],
   "source": [
    "function merge_vertices(V::Lar.Points, EV::Lar.ChainOp, FE::Lar.ChainOp, err=1e-4)\n",
    "    vertsnum = size(V, 1)\n",
    "    edgenum = size(EV, 1)\n",
    "    facenum = size(FE, 1)\n",
    "    newverts = zeros(Int, vertsnum)\n",
    "    # KDTree constructor needs an explicit array of Float64\n",
    "    V = Array{Float64,2}(V)\n",
    "    W = convert(Lar.Points, LinearAlgebra.transpose(V))\n",
    "    kdtree = KDTree(W)\n",
    "    # remove vertices congruent to a single representative\n",
    "    todelete = []\n",
    "    i = 1\n",
    "    for vi in 1:vertsnum\n",
    "        if !(vi in todelete)\n",
    "            nearvs = Lar.inrange(kdtree, V[vi, :], err)\n",
    "            newverts[nearvs] .= i\n",
    "            nearvs = setdiff(nearvs, vi)\n",
    "            todelete = union(todelete, nearvs)\n",
    "            i = i + 1\n",
    "        end\n",
    "    end\n",
    "    nV = V[setdiff(collect(1:vertsnum), todelete), :]\n",
    "    \n",
    "    # translate edges to take congruence into account\n",
    "    edges = Array{Tuple{Int, Int}, 1}(undef, edgenum)\n",
    "    oedges = Array{Tuple{Int, Int}, 1}(undef, edgenum)\n",
    "    for ei in 1:edgenum\n",
    "        v1, v2 = EV[ei, :].nzind\n",
    "        edges[ei] = Tuple{Int, Int}(sort([newverts[v1], newverts[v2]]))\n",
    "        oedges[ei] = Tuple{Int, Int}(sort([v1, v2]))\n",
    "    end\n",
    "    nedges = union(edges)\n",
    "    # remove edges of zero length\n",
    "    nedges = filter(t->t[1]!=t[2], nedges)\n",
    "    nedgenum = length(nedges)\n",
    "    nEV = spzeros(Int8, nedgenum, size(nV, 1))\n",
    " \n",
    "    etuple2idx = Dict{Tuple{Int, Int}, Int}()\n",
    "    for ei in 1:nedgenum\n",
    "        begin\n",
    "            nEV[ei, collect(nedges[ei])] .= 1\n",
    "            nEV\n",
    "        end\n",
    "        etuple2idx[nedges[ei]] = ei\n",
    "    end\n",
    "    for e in 1:nedgenum\n",
    "        v1,v2 = findnz(nEV[e,:])[1]\n",
    "        nEV[e,v1] = -1; nEV[e,v2] = 1\n",
    "    end\n",
    " \n",
    "    # compute new faces to take congruence into account\n",
    "    faces = [[\n",
    "        map(x->newverts[x], FE[fi, ei] > 0 ? oedges[ei] : reverse(oedges[ei]))\n",
    "        for ei in FE[fi, :].nzind\n",
    "    ] for fi in 1:facenum]\n",
    " \n",
    " \n",
    "    visited = []\n",
    "    function filter_fn(face)\n",
    " \n",
    "        verts = []\n",
    "        map(e->verts = union(verts, collect(e)), face)\n",
    "        verts = Set(verts)\n",
    " \n",
    "        if !(verts in visited)\n",
    "            push!(visited, verts)\n",
    "            return true\n",
    "        end\n",
    "        return false\n",
    "    end\n",
    " \n",
    "    nfaces = filter(filter_fn, faces)\n",
    " \n",
    "    nfacenum = length(nfaces)\n",
    "    nFE = spzeros(Int8, nfacenum, size(nEV, 1))\n",
    " \n",
    "    for fi in 1:nfacenum\n",
    "        for edge in nfaces[fi]\n",
    "            ei = etuple2idx[Tuple{Int, Int}(sort(collect(edge)))]\n",
    "            nFE[fi, ei] = sign(edge[2] - edge[1])\n",
    "        end\n",
    "    end\n",
    " \n",
    "    return Lar.Points(nV), nEV, nFE\n",
    " end"
   ]
  },
  {
   "cell_type": "markdown",
   "metadata": {
    "id": "a09QHiChW-KJ",
    "pycharm": {
     "name": "#%% md\n"
    }
   },
   "source": [
    "Preparazione input"
   ]
  },
  {
   "cell_type": "code",
   "execution_count": 6,
   "metadata": {
    "id": "sTdWFHX4Tamj",
    "pycharm": {
     "name": "#%%\n"
    }
   },
   "outputs": [],
   "source": [
    "V = [0.6540618 0.2054992 0.2972308; 0.7142365 0.1455625 0.969203; 0.5941251 0.8769965 0.3624924; 0.6542998 0.8170598 1.0344647; 1.3260341 0.2707609 0.2428771; 1.3862088 0.2108241 0.9148494; 1.2660973 0.9422582 0.3081388; 1.326272 0.8823214 0.980111; -0.3874063 0.4902226 0.4536339; 0.3249123 0.707347 0.5231232; -0.1702819 -0.0864242 0.0297177; 0.5420367 0.1307001 0.099207; -0.317917 0.0663064 1.0658723; 0.3944016 0.2834308 1.1353616; -0.1007926 -0.5103404 0.6419561; 0.611526 -0.2932161 0.7114454; 0.7899026 0.0605793 0.6679889; 0.46601 0.0749997 0.6686316; 0.804323 0.3844725 0.6679746; 0.4804304 0.3988929 0.6686173; 0.7905452 0.060565 0.9922023; 0.4666527 0.0749854 0.992845; 0.8049656 0.3844582 0.992188; 0.4810731 0.3988786 0.9928307; -0.2261907 -0.0720455 0.4715635; -0.0499888 0.0863489 0.7965885; -0.0677963 0.219164 0.24378; 0.1084056 0.3775584 0.5688049; 0.0988343 -0.2998291 0.4063673; 0.2750362 -0.1414347 0.7313923; 0.2572286 -0.0086196 0.1785838; 0.4334306 0.1497748 0.5036087];\n",
    "\n",
    "EV = SparseArrays.sparse([1, 5, 9, 1, 6, 10, 2, 5, 11, 2, 6, 12, 3, 7, 9, 3, 8, 10, 4, 7, 11, 4, 8, 12, 13, 17, 21, 13, 18, 22, 14, 17, 23, 14, 18, 24, 15, 19, 21, 15, 20, 22, 16, 19, 23, 16, 20, 24, 25, 29, 33, 25, 30, 34, 26, 29, 35, 26, 30, 36, 27, 31, 33, 27, 32, 34, 28, 31, 35, 28, 32, 36], [1, 1, 1, 2, 2, 2, 3, 3, 3, 4, 4, 4, 5, 5, 5, 6, 6, 6, 7, 7, 7, 8, 8, 8, 9, 9, 9, 10, 10, 10, 11, 11, 11, 12, 12, 12, 13, 13, 13, 14, 14, 14, 15, 15, 15, 16, 16, 16, 17, 17, 17, 18, 18, 18, 19, 19, 19, 20, 20, 20, 21, 21, 21, 22, 22, 22, 23, 23, 23, 24, 24, 24], Int8[-1, -1, -1, 1, -1, -1, -1, 1, -1, 1, 1, -1, -1, -1, 1, 1, -1, 1, -1, 1, 1, 1, 1, 1, -1, -1, -1, 1, -1, -1, -1, 1, -1, 1, 1, -1, -1, -1, 1, 1, -1, 1, -1, 1, 1, 1, 1, 1, -1, -1, -1, 1, -1, -1, -1, 1, -1, 1, 1, -1, -1, -1, 1, 1, -1, 1, -1, 1, 1, 1, 1, 1]);\n",
    "\n",
    "FE = SparseArrays.sparse([1, 3, 1, 4, 2, 3, 2, 4, 1, 5, 1, 6, 2, 5, 2, 6, 3, 5, 3, 6, 4, 5, 4, 6, 7, 9, 7, 10, 8, 9, 8, 10, 7, 11, 7, 12, 8, 11, 8, 12, 9, 11, 9, 12, 10, 11, 10, 12, 13, 15, 13, 16, 14, 15, 14, 16, 13, 17, 13, 18, 14, 17, 14, 18, 15, 17, 15, 18, 16, 17, 16, 18], [1, 1, 2, 2, 3, 3, 4, 4, 5, 5, 6, 6, 7, 7, 8, 8, 9, 9, 10, 10, 11, 11, 12, 12, 13, 13, 14, 14, 15, 15, 16, 16, 17, 17, 18, 18, 19, 19, 20, 20, 21, 21, 22, 22, 23, 23, 24, 24, 25, 25, 26, 26, 27, 27, 28, 28, 29, 29, 30, 30, 31, 31, 32, 32, 33, 33, 34, 34, 35, 35, 36, 36], Int8[1, 1, -1, 1, 1, -1, -1, -1, -1, 1, 1, 1, -1, -1, 1, -1, -1, -1, 1, -1, -1, 1, 1, 1, 1, 1, -1, 1, 1, -1, -1, -1, -1, 1, 1, 1, -1, -1, 1, -1, -1, -1, 1, -1, -1, 1, 1, 1, 1, 1, -1, 1, 1, -1, -1, -1, -1, 1, 1, 1, -1, -1, 1, -1, -1, -1, 1, -1, -1, 1, 1, 1]);\n"
   ]
  },
  {
   "cell_type": "code",
   "execution_count": 7,
   "metadata": {
    "id": "fDZuPSYEW9Eh",
    "pycharm": {
     "name": "#%%\n"
    }
   },
   "outputs": [
    {
     "name": "stdout",
     "output_type": "stream",
     "text": [
      "  95.333 μs (2979 allocations: 200.70 KiB)\n"
     ]
    },
    {
     "data": {
      "text/plain": [
       "([0.6540618 0.2054992 0.2972308; 0.7142365 0.1455625 0.969203; … ; 0.2572286 -0.0086196 0.1785838; 0.4334306 0.1497748 0.5036087], sparse([1, 5, 9, 1, 6, 10, 2, 5, 11, 2  …  33, 27, 32, 34, 28, 31, 35, 28, 32, 36], [1, 1, 1, 2, 2, 2, 3, 3, 3, 4  …  21, 22, 22, 22, 23, 23, 23, 24, 24, 24], Int8[-1, -1, -1, 1, -1, -1, -1, 1, -1, 1  …  1, 1, -1, 1, -1, 1, 1, 1, 1, 1], 36, 32), sparse([1, 3, 1, 4, 2, 3, 2, 4, 1, 5  …  14, 18, 15, 17, 15, 18, 16, 17, 16, 18], [1, 1, 2, 2, 3, 3, 4, 4, 5, 5  …  32, 32, 33, 33, 34, 34, 35, 35, 36, 36], Int8[1, 1, -1, 1, 1, -1, -1, -1, -1, 1  …  1, -1, -1, -1, 1, -1, -1, 1, 1, 1], 18, 36))"
      ]
     },
     "execution_count": 7,
     "metadata": {},
     "output_type": "execute_result"
    }
   ],
   "source": [
    "@btime merge_vertices($Lar.Points(V),$Lar.ChainOp(EV),$Lar.ChainOp(FE),$1e-8)"
   ]
  },
  {
   "cell_type": "markdown",
   "metadata": {
    "id": "_5hOc-c0bhsv",
    "pycharm": {
     "name": "#%% md\n"
    }
   },
   "source": [
    "# Ottimizzazione iniziale"
   ]
  },
  {
   "cell_type": "markdown",
   "metadata": {
    "id": "D6eUtVUzbo4O",
    "pycharm": {
     "name": "#%% md\n"
    }
   },
   "source": [
    "Si è scelto di usare due macro Julia @async.\n",
    "\n",
    "*  *@async*: Wrap an expression in a Task and add it to the local machine's scheduler queue.\n"
   ]
  },
  {
   "cell_type": "code",
   "execution_count": 8,
   "metadata": {
    "id": "V7AJXzEfbny_",
    "pycharm": {
     "name": "#%%\n"
    }
   },
   "outputs": [
    {
     "data": {
      "text/plain": [
       "merge_vertices_revisited (generic function with 2 methods)"
      ]
     },
     "execution_count": 8,
     "metadata": {},
     "output_type": "execute_result"
    }
   ],
   "source": [
    "function merge_vertices_revisited(V::Lar.Points, EV::Lar.ChainOp, FE::Lar.ChainOp, err=1e-4)\n",
    "    vertsnum = size(V, 1)\n",
    "    edgenum = size(EV, 1)\n",
    "    facenum = size(FE, 1)\n",
    "    newverts = zeros(Int, vertsnum)\n",
    "\n",
    "    # KDTree constructor needs an explicit array of Float64\n",
    "    V = Array{Float64,2}(V)\n",
    "    W = convert(Lar.Points, LinearAlgebra.transpose(V))\n",
    "    kdtree = KDTree(W)\n",
    "\n",
    "    # remove vertices congruent to a single representative\n",
    "    todelete = []\n",
    "    i = 1\n",
    "\n",
    "    for vi in 1:vertsnum #non è possibile utilizzare @async\n",
    "        if !(vi in todelete)\n",
    "            nearvs =  Lar.inrange(kdtree, V[vi, :], err)\n",
    "            newverts[nearvs] .= i\n",
    "            nearvs =  setdiff(nearvs, vi)\n",
    "            todelete = union(todelete, nearvs)\n",
    "            i = i + 1\n",
    "        end\n",
    "    end\n",
    "    nV = V[setdiff(collect(1:vertsnum), todelete), :]\n",
    "    \n",
    "    # translate edges to take congruence into account\n",
    "    edges = Array{Tuple{Int, Int}, 1}(undef, edgenum)\n",
    "    oedges = Array{Tuple{Int, Int}, 1}(undef, edgenum)\n",
    "\n",
    "    for ei in 1:edgenum #non è possibile utilizzare @async\n",
    "        v1, v2 = EV[ei, :].nzind\n",
    "        edges[ei] = Tuple{Int, Int}(sort([newverts[v1], newverts[v2]]))\n",
    "        oedges[ei] = Tuple{Int, Int}(sort([v1, v2]))\n",
    "    end\n",
    "\n",
    "    nedges = union(edges)\n",
    "    # remove edges of zero length\n",
    "    nedges = filter(t->t[1]!=t[2], nedges)\n",
    "    nedgenum = length(nedges)\n",
    "    nEV = spzeros(Int8, nedgenum, size(nV, 1))\n",
    " \n",
    "    etuple2idx = Dict{Tuple{Int, Int}, Int}()\n",
    "\n",
    "    for ei in 1:nedgenum #non è possibile utilizzare @async\n",
    "        begin\n",
    "            nEV[ei, collect(nedges[ei])] .= 1\n",
    "            nEV\n",
    "        end\n",
    "        etuple2idx[nedges[ei]] = ei\n",
    "    end\n",
    "    \n",
    "    @async for e in 1:nedgenum \n",
    "        v1,v2 = findnz(nEV[e,:])[1]\n",
    "        nEV[e,v1] = -1; nEV[e,v2] = 1\n",
    "    end\n",
    " \n",
    "    # compute new faces to take congruence into account\n",
    "    faces = [[\n",
    "        map(x->newverts[x], FE[fi, ei] > 0 ? oedges[ei] : reverse(oedges[ei]))\n",
    "        for ei in FE[fi, :].nzind\n",
    "    ] for fi in 1:facenum]\n",
    " \n",
    " \n",
    "    visited = []\n",
    "    function filter_fn(face)\n",
    " \n",
    "        verts = []\n",
    "        map(e->verts = union(verts, collect(e)), face)\n",
    "        verts = Set(verts)\n",
    " \n",
    "        if !(verts in visited)\n",
    "            push!(visited, verts)\n",
    "            return true\n",
    "        end\n",
    "        return false\n",
    "    end\n",
    " \n",
    "    nfaces = filter(filter_fn, faces)\n",
    " \n",
    "    nfacenum = length(nfaces)\n",
    "    nFE = spzeros(Int8, nfacenum, size(nEV, 1))\n",
    " \n",
    "    @async for fi in 1:nfacenum\n",
    "        @async for edge in nfaces[fi]\n",
    "            ei = etuple2idx[Tuple{Int, Int}(sort(collect(edge)))]\n",
    "            nFE[fi, ei] = sign(edge[2] - edge[1])\n",
    "        end\n",
    "    end\n",
    " \n",
    "    return Lar.Points(nV), nEV, nFE\n",
    " end"
   ]
  },
  {
   "cell_type": "code",
   "execution_count": 9,
   "metadata": {
    "id": "K1OX3mk3h00-",
    "pycharm": {
     "name": "#%%\n"
    }
   },
   "outputs": [
    {
     "name": "stdout",
     "output_type": "stream",
     "text": [
      "  80.083 μs (2622 allocations: 174.80 KiB)\n"
     ]
    },
    {
     "data": {
      "text/plain": [
       "([0.6540618 0.2054992 0.2972308; 0.7142365 0.1455625 0.969203; … ; 0.2572286 -0.0086196 0.1785838; 0.4334306 0.1497748 0.5036087], sparse([1, 5, 9, 1, 6, 10, 2, 5, 11, 2  …  33, 27, 32, 34, 28, 31, 35, 28, 32, 36], [1, 1, 1, 2, 2, 2, 3, 3, 3, 4  …  21, 22, 22, 22, 23, 23, 23, 24, 24, 24], Int8[-1, -1, -1, 1, -1, -1, -1, 1, -1, 1  …  1, 1, -1, 1, -1, 1, 1, 1, 1, 1], 36, 32), sparse([1, 3, 1, 4, 2, 3, 2, 4, 1, 5  …  14, 18, 15, 17, 15, 18, 16, 17, 16, 18], [1, 1, 2, 2, 3, 3, 4, 4, 5, 5  …  32, 32, 33, 33, 34, 34, 35, 35, 36, 36], Int8[1, 1, -1, 1, 1, -1, -1, -1, -1, 1  …  1, -1, -1, -1, 1, -1, -1, 1, 1, 1], 18, 36))"
      ]
     },
     "execution_count": 9,
     "metadata": {},
     "output_type": "execute_result"
    }
   ],
   "source": [
    "@btime merge_vertices_revisited(Lar.Points(V),Lar.ChainOp(EV),Lar.ChainOp(FE),1e-8)"
   ]
  },
  {
   "cell_type": "code",
   "execution_count": 10,
   "metadata": {
    "id": "9Lt2ySsBkDWa",
    "pycharm": {
     "name": "#%%\n"
    }
   },
   "outputs": [
    {
     "data": {
      "text/plain": [
       "BenchmarkTools.Trial: 10000 samples with 1 evaluation.\n",
       " Range \u001B[90m(\u001B[39m\u001B[36m\u001B[1mmin\u001B[22m\u001B[39m … \u001B[35mmax\u001B[39m\u001B[90m):  \u001B[39m\u001B[36m\u001B[1m 94.750 μs\u001B[22m\u001B[39m … \u001B[35m  3.611 ms\u001B[39m  \u001B[90m┊\u001B[39m GC \u001B[90m(\u001B[39mmin … max\u001B[90m): \u001B[39m 0.00% … 96.18%\n",
       " Time  \u001B[90m(\u001B[39m\u001B[34m\u001B[1mmedian\u001B[22m\u001B[39m\u001B[90m):     \u001B[39m\u001B[34m\u001B[1m 98.000 μs               \u001B[22m\u001B[39m\u001B[90m┊\u001B[39m GC \u001B[90m(\u001B[39mmedian\u001B[90m):    \u001B[39m 0.00%\n",
       " Time  \u001B[90m(\u001B[39m\u001B[32m\u001B[1mmean\u001B[22m\u001B[39m ± \u001B[32mσ\u001B[39m\u001B[90m):   \u001B[39m\u001B[32m\u001B[1m114.107 μs\u001B[22m\u001B[39m ± \u001B[32m210.758 μs\u001B[39m  \u001B[90m┊\u001B[39m GC \u001B[90m(\u001B[39mmean ± σ\u001B[90m):  \u001B[39m12.30% ±  6.44%\n",
       "\n",
       "  \u001B[39m \u001B[39m \u001B[39m█\u001B[39m▇\u001B[39m▂\u001B[34m \u001B[39m\u001B[39m \u001B[39m \u001B[39m \u001B[39m \u001B[39m \u001B[39m \u001B[39m \u001B[39m \u001B[39m \u001B[39m \u001B[39m \u001B[39m \u001B[39m \u001B[39m \u001B[39m \u001B[39m \u001B[39m \u001B[39m \u001B[39m \u001B[39m \u001B[39m \u001B[39m \u001B[32m \u001B[39m\u001B[39m \u001B[39m \u001B[39m \u001B[39m \u001B[39m \u001B[39m \u001B[39m \u001B[39m \u001B[39m \u001B[39m \u001B[39m \u001B[39m \u001B[39m \u001B[39m \u001B[39m \u001B[39m \u001B[39m \u001B[39m \u001B[39m \u001B[39m \u001B[39m \u001B[39m \u001B[39m \u001B[39m \u001B[39m \u001B[39m \u001B[39m \u001B[39m \u001B[39m \u001B[39m \u001B[39m \u001B[39m \u001B[39m \u001B[39m \n",
       "  \u001B[39m▁\u001B[39m▆\u001B[39m█\u001B[39m█\u001B[39m█\u001B[34m▇\u001B[39m\u001B[39m▆\u001B[39m▆\u001B[39m▅\u001B[39m▄\u001B[39m▃\u001B[39m▃\u001B[39m▃\u001B[39m▂\u001B[39m▂\u001B[39m▂\u001B[39m▂\u001B[39m▂\u001B[39m▂\u001B[39m▁\u001B[39m▁\u001B[39m▁\u001B[39m▁\u001B[39m▁\u001B[39m▁\u001B[39m▁\u001B[39m▁\u001B[39m▁\u001B[32m▁\u001B[39m\u001B[39m▁\u001B[39m▁\u001B[39m▁\u001B[39m▁\u001B[39m▁\u001B[39m▁\u001B[39m▁\u001B[39m▁\u001B[39m▁\u001B[39m▁\u001B[39m▁\u001B[39m▁\u001B[39m▁\u001B[39m▁\u001B[39m▁\u001B[39m▁\u001B[39m▁\u001B[39m▁\u001B[39m▁\u001B[39m▁\u001B[39m▁\u001B[39m▁\u001B[39m▁\u001B[39m▁\u001B[39m▁\u001B[39m▁\u001B[39m▁\u001B[39m▁\u001B[39m▁\u001B[39m▁\u001B[39m▁\u001B[39m▁\u001B[39m \u001B[39m▂\n",
       "  94.8 μs\u001B[90m          Histogram: frequency by time\u001B[39m          137 μs \u001B[0m\u001B[1m<\u001B[22m\n",
       "\n",
       " Memory estimate\u001B[90m: \u001B[39m\u001B[33m200.68 KiB\u001B[39m, allocs estimate\u001B[90m: \u001B[39m\u001B[33m2978\u001B[39m."
      ]
     },
     "execution_count": 10,
     "metadata": {},
     "output_type": "execute_result"
    }
   ],
   "source": [
    "@benchmark merge_vertices(Lar.Points(V),Lar.ChainOp(EV),Lar.ChainOp(FE),1e-8)"
   ]
  },
  {
   "cell_type": "code",
   "execution_count": 11,
   "metadata": {
    "id": "zABOq1JTkELe",
    "pycharm": {
     "name": "#%%\n"
    }
   },
   "outputs": [
    {
     "data": {
      "text/plain": [
       "BenchmarkTools.Trial: 10000 samples with 1 evaluation.\n",
       " Range \u001B[90m(\u001B[39m\u001B[36m\u001B[1mmin\u001B[22m\u001B[39m … \u001B[35mmax\u001B[39m\u001B[90m):  \u001B[39m\u001B[36m\u001B[1m 80.166 μs\u001B[22m\u001B[39m … \u001B[35m 32.171 ms\u001B[39m  \u001B[90m┊\u001B[39m GC \u001B[90m(\u001B[39mmin … max\u001B[90m): \u001B[39m 0.00% … 99.63%\n",
       " Time  \u001B[90m(\u001B[39m\u001B[34m\u001B[1mmedian\u001B[22m\u001B[39m\u001B[90m):     \u001B[39m\u001B[34m\u001B[1m 83.250 μs               \u001B[22m\u001B[39m\u001B[90m┊\u001B[39m GC \u001B[90m(\u001B[39mmedian\u001B[90m):    \u001B[39m 0.00%\n",
       " Time  \u001B[90m(\u001B[39m\u001B[32m\u001B[1mmean\u001B[22m\u001B[39m ± \u001B[32mσ\u001B[39m\u001B[90m):   \u001B[39m\u001B[32m\u001B[1m104.954 μs\u001B[22m\u001B[39m ± \u001B[32m776.907 μs\u001B[39m  \u001B[90m┊\u001B[39m GC \u001B[90m(\u001B[39mmean ± σ\u001B[90m):  \u001B[39m19.48% ±  2.63%\n",
       "\n",
       "  \u001B[39m \u001B[39m \u001B[39m \u001B[39m▂\u001B[39m▆\u001B[39m▇\u001B[39m█\u001B[39m▇\u001B[39m█\u001B[39m▃\u001B[34m▁\u001B[39m\u001B[39m▁\u001B[39m▁\u001B[39m \u001B[39m \u001B[39m \u001B[39m \u001B[39m \u001B[39m \u001B[39m \u001B[39m \u001B[39m \u001B[39m \u001B[39m \u001B[39m \u001B[39m \u001B[39m \u001B[39m \u001B[39m \u001B[39m \u001B[39m \u001B[39m \u001B[39m \u001B[39m \u001B[39m \u001B[39m \u001B[39m \u001B[39m \u001B[39m \u001B[39m \u001B[39m \u001B[39m \u001B[39m \u001B[39m \u001B[39m \u001B[39m \u001B[39m \u001B[39m \u001B[39m \u001B[39m \u001B[39m \u001B[39m \u001B[39m \u001B[39m \u001B[39m \u001B[39m \u001B[39m \u001B[39m \u001B[39m \u001B[39m \u001B[39m \u001B[39m \u001B[39m \n",
       "  \u001B[39m▂\u001B[39m▃\u001B[39m▆\u001B[39m█\u001B[39m█\u001B[39m█\u001B[39m█\u001B[39m█\u001B[39m█\u001B[39m█\u001B[34m█\u001B[39m\u001B[39m█\u001B[39m█\u001B[39m▇\u001B[39m▆\u001B[39m▆\u001B[39m▆\u001B[39m▅\u001B[39m▅\u001B[39m▄\u001B[39m▅\u001B[39m▄\u001B[39m▄\u001B[39m▃\u001B[39m▃\u001B[39m▄\u001B[39m▃\u001B[39m▃\u001B[39m▃\u001B[39m▂\u001B[39m▃\u001B[39m▂\u001B[39m▂\u001B[39m▂\u001B[39m▂\u001B[39m▂\u001B[39m▂\u001B[39m▂\u001B[39m▂\u001B[39m▂\u001B[39m▂\u001B[39m▂\u001B[39m▁\u001B[39m▁\u001B[39m▁\u001B[39m▁\u001B[39m▁\u001B[39m▁\u001B[39m▁\u001B[39m▁\u001B[39m▁\u001B[39m▁\u001B[39m▁\u001B[39m▁\u001B[39m▁\u001B[39m▁\u001B[39m▁\u001B[39m▁\u001B[39m▁\u001B[39m▁\u001B[39m▁\u001B[39m \u001B[39m▃\n",
       "  80.2 μs\u001B[90m          Histogram: frequency by time\u001B[39m         98.6 μs \u001B[0m\u001B[1m<\u001B[22m\n",
       "\n",
       " Memory estimate\u001B[90m: \u001B[39m\u001B[33m174.80 KiB\u001B[39m, allocs estimate\u001B[90m: \u001B[39m\u001B[33m2622\u001B[39m."
      ]
     },
     "execution_count": 11,
     "metadata": {},
     "output_type": "execute_result"
    }
   ],
   "source": [
    "@benchmark merge_vertices_revisited(Lar.Points(V),Lar.ChainOp(EV),Lar.ChainOp(FE),1e-8)"
   ]
  },
  {
   "cell_type": "code",
   "execution_count": null,
   "metadata": {
    "pycharm": {
     "name": "#%%\n"
    }
   },
   "outputs": [],
   "source": []
  }
 ],
 "metadata": {
  "colab": {
   "collapsed_sections": [],
   "name": "Esempio.ipynb",
   "provenance": []
  },
  "kernelspec": {
   "display_name": "Julia 1.7.2",
   "language": "julia",
   "name": "julia-1.7"
  },
  "language_info": {
   "file_extension": ".jl",
   "mimetype": "application/julia",
   "name": "julia",
   "version": "1.7.2"
  }
 },
 "nbformat": 4,
 "nbformat_minor": 1
}